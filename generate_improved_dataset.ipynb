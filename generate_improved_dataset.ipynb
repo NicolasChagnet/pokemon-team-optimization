{
 "cells": [
  {
   "cell_type": "markdown",
   "metadata": {},
   "source": [
    "<a href=\"https://colab.research.google.com/github/NicolasChagnet/pokemon-team-optimization/blob/main/generate_improved_dataset.ipynb\" target=\"_parent\"><img src=\"https://colab.research.google.com/assets/colab-badge.svg\" alt=\"Open In Colab\"/></a>"
   ]
  },
  {
   "cell_type": "markdown",
   "metadata": {},
   "source": [
    "# Generate improved dataset"
   ]
  },
  {
   "cell_type": "code",
   "execution_count": 1,
   "metadata": {},
   "outputs": [],
   "source": [
    "%load_ext autoreload\n",
    "%autoreload 2\n",
    "\n",
    "import sys; sys.path.insert(0, '.')\n",
    "from src import config\n",
    "import pandas as pd\n",
    "import pokebase"
   ]
  },
  {
   "cell_type": "markdown",
   "metadata": {},
   "source": [
    "In this notebook, we will first download the [original dataset](https://www.kaggle.com/datasets/rounakbanik/pokemon) from Kaggle. Then we will improve this dataset before saving it for further use."
   ]
  },
  {
   "cell_type": "markdown",
   "metadata": {},
   "source": [
    "## Starters and pseudo-legendaries"
   ]
  },
  {
   "cell_type": "code",
   "execution_count": 3,
   "metadata": {},
   "outputs": [],
   "source": [
    "df = pd.read_csv(\"data/pokemon.csv\")\n",
    "df = df.drop(\n",
    "    [\n",
    "        \"abilities\",\n",
    "        \"attack\",\n",
    "        \"base_egg_steps\",\n",
    "        \"base_happiness\",\n",
    "        \"capture_rate\",\n",
    "        \"classfication\",\n",
    "        \"defense\",\n",
    "        \"experience_growth\",\n",
    "        \"height_m\",\n",
    "        \"hp\",\n",
    "        \"japanese_name\",\n",
    "        \"percentage_male\",\n",
    "        \"sp_attack\",\n",
    "        \"sp_defense\",\n",
    "        \"speed\",\n",
    "        \"weight_kg\",\n",
    "    ],\n",
    "    axis=1,\n",
    ")\n",
    "df[\"name\"] = df[\"name\"].str.lower()\n",
    "df[\"is_starter\"] = df[\"name\"].isin(config.list_starters_final_stage).astype(int)\n",
    "df[\"is_pseudo_legendary\"] = df[\"name\"].isin(config.list_pseudo_legendaries).astype(int)\n",
    "df[\"is_fossil\"] = df[\"name\"].isin(config.list_fossils).astype(int)\n",
    "\n",
    "df.to_csv(\"data/pokemon_starter_pl.csv\", index=False)"
   ]
  },
  {
   "cell_type": "code",
   "execution_count": null,
   "metadata": {},
   "outputs": [],
   "source": []
  }
 ],
 "metadata": {
  "kernelspec": {
   "display_name": "pokemon-optimization_py",
   "language": "python",
   "name": "python3"
  },
  "language_info": {
   "codemirror_mode": {
    "name": "ipython",
    "version": 3
   },
   "file_extension": ".py",
   "mimetype": "text/x-python",
   "name": "python",
   "nbconvert_exporter": "python",
   "pygments_lexer": "ipython3",
   "version": "3.11.9"
  }
 },
 "nbformat": 4,
 "nbformat_minor": 2
}
